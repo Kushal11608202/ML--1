{
 "cells": [
  {
   "cell_type": "markdown",
   "metadata": {},
   "source": [
    "# House Price Prediction\n",
    "\n",
    "The main aim of this project is to predict the house prices. We have the 'kc' Sales Dataset.\n",
    "\n",
    "## About Dataset:\n",
    "This dataset contains house sale prices for King Country, which includes Seattle. It includes homes sold between May 2014 and May 2015.\n",
    "\n",
    "![](data:image/jpeg;base64,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)"
   ]
  },
  {
   "cell_type": "code",
   "execution_count": 1,
   "metadata": {},
   "outputs": [],
   "source": [
    "import numpy as np\n",
    "import pandas as pd\n",
    "import seaborn as sns\n",
    "import matplotlib.pyplot as plt"
   ]
  },
  {
   "cell_type": "code",
   "execution_count": 2,
   "metadata": {},
   "outputs": [],
   "source": [
    "df = pd.read_csv('kc_house_data.csv')"
   ]
  },
  {
   "cell_type": "code",
   "execution_count": 3,
   "metadata": {},
   "outputs": [
    {
     "data": {
      "text/html": [
       "<div>\n",
       "<style scoped>\n",
       "    .dataframe tbody tr th:only-of-type {\n",
       "        vertical-align: middle;\n",
       "    }\n",
       "\n",
       "    .dataframe tbody tr th {\n",
       "        vertical-align: top;\n",
       "    }\n",
       "\n",
       "    .dataframe thead th {\n",
       "        text-align: right;\n",
       "    }\n",
       "</style>\n",
       "<table border=\"1\" class=\"dataframe\">\n",
       "  <thead>\n",
       "    <tr style=\"text-align: right;\">\n",
       "      <th></th>\n",
       "      <th>id</th>\n",
       "      <th>date</th>\n",
       "      <th>price</th>\n",
       "      <th>bedrooms</th>\n",
       "      <th>bathrooms</th>\n",
       "      <th>sqft_living</th>\n",
       "      <th>sqft_lot</th>\n",
       "      <th>floors</th>\n",
       "      <th>waterfront</th>\n",
       "      <th>view</th>\n",
       "      <th>...</th>\n",
       "      <th>grade</th>\n",
       "      <th>sqft_above</th>\n",
       "      <th>sqft_basement</th>\n",
       "      <th>yr_built</th>\n",
       "      <th>yr_renovated</th>\n",
       "      <th>zipcode</th>\n",
       "      <th>lat</th>\n",
       "      <th>long</th>\n",
       "      <th>sqft_living15</th>\n",
       "      <th>sqft_lot15</th>\n",
       "    </tr>\n",
       "  </thead>\n",
       "  <tbody>\n",
       "    <tr>\n",
       "      <th>0</th>\n",
       "      <td>7129300520</td>\n",
       "      <td>20141013T000000</td>\n",
       "      <td>221900.0</td>\n",
       "      <td>3</td>\n",
       "      <td>1.00</td>\n",
       "      <td>1180</td>\n",
       "      <td>5650</td>\n",
       "      <td>1.0</td>\n",
       "      <td>0</td>\n",
       "      <td>0</td>\n",
       "      <td>...</td>\n",
       "      <td>7</td>\n",
       "      <td>1180</td>\n",
       "      <td>0</td>\n",
       "      <td>1955</td>\n",
       "      <td>0</td>\n",
       "      <td>98178</td>\n",
       "      <td>47.5112</td>\n",
       "      <td>-122.257</td>\n",
       "      <td>1340</td>\n",
       "      <td>5650</td>\n",
       "    </tr>\n",
       "    <tr>\n",
       "      <th>1</th>\n",
       "      <td>6414100192</td>\n",
       "      <td>20141209T000000</td>\n",
       "      <td>538000.0</td>\n",
       "      <td>3</td>\n",
       "      <td>2.25</td>\n",
       "      <td>2570</td>\n",
       "      <td>7242</td>\n",
       "      <td>2.0</td>\n",
       "      <td>0</td>\n",
       "      <td>0</td>\n",
       "      <td>...</td>\n",
       "      <td>7</td>\n",
       "      <td>2170</td>\n",
       "      <td>400</td>\n",
       "      <td>1951</td>\n",
       "      <td>1991</td>\n",
       "      <td>98125</td>\n",
       "      <td>47.7210</td>\n",
       "      <td>-122.319</td>\n",
       "      <td>1690</td>\n",
       "      <td>7639</td>\n",
       "    </tr>\n",
       "    <tr>\n",
       "      <th>2</th>\n",
       "      <td>5631500400</td>\n",
       "      <td>20150225T000000</td>\n",
       "      <td>180000.0</td>\n",
       "      <td>2</td>\n",
       "      <td>1.00</td>\n",
       "      <td>770</td>\n",
       "      <td>10000</td>\n",
       "      <td>1.0</td>\n",
       "      <td>0</td>\n",
       "      <td>0</td>\n",
       "      <td>...</td>\n",
       "      <td>6</td>\n",
       "      <td>770</td>\n",
       "      <td>0</td>\n",
       "      <td>1933</td>\n",
       "      <td>0</td>\n",
       "      <td>98028</td>\n",
       "      <td>47.7379</td>\n",
       "      <td>-122.233</td>\n",
       "      <td>2720</td>\n",
       "      <td>8062</td>\n",
       "    </tr>\n",
       "    <tr>\n",
       "      <th>3</th>\n",
       "      <td>2487200875</td>\n",
       "      <td>20141209T000000</td>\n",
       "      <td>604000.0</td>\n",
       "      <td>4</td>\n",
       "      <td>3.00</td>\n",
       "      <td>1960</td>\n",
       "      <td>5000</td>\n",
       "      <td>1.0</td>\n",
       "      <td>0</td>\n",
       "      <td>0</td>\n",
       "      <td>...</td>\n",
       "      <td>7</td>\n",
       "      <td>1050</td>\n",
       "      <td>910</td>\n",
       "      <td>1965</td>\n",
       "      <td>0</td>\n",
       "      <td>98136</td>\n",
       "      <td>47.5208</td>\n",
       "      <td>-122.393</td>\n",
       "      <td>1360</td>\n",
       "      <td>5000</td>\n",
       "    </tr>\n",
       "    <tr>\n",
       "      <th>4</th>\n",
       "      <td>1954400510</td>\n",
       "      <td>20150218T000000</td>\n",
       "      <td>510000.0</td>\n",
       "      <td>3</td>\n",
       "      <td>2.00</td>\n",
       "      <td>1680</td>\n",
       "      <td>8080</td>\n",
       "      <td>1.0</td>\n",
       "      <td>0</td>\n",
       "      <td>0</td>\n",
       "      <td>...</td>\n",
       "      <td>8</td>\n",
       "      <td>1680</td>\n",
       "      <td>0</td>\n",
       "      <td>1987</td>\n",
       "      <td>0</td>\n",
       "      <td>98074</td>\n",
       "      <td>47.6168</td>\n",
       "      <td>-122.045</td>\n",
       "      <td>1800</td>\n",
       "      <td>7503</td>\n",
       "    </tr>\n",
       "  </tbody>\n",
       "</table>\n",
       "<p>5 rows × 21 columns</p>\n",
       "</div>"
      ],
      "text/plain": [
       "           id             date     price  bedrooms  bathrooms  sqft_living  \\\n",
       "0  7129300520  20141013T000000  221900.0         3       1.00         1180   \n",
       "1  6414100192  20141209T000000  538000.0         3       2.25         2570   \n",
       "2  5631500400  20150225T000000  180000.0         2       1.00          770   \n",
       "3  2487200875  20141209T000000  604000.0         4       3.00         1960   \n",
       "4  1954400510  20150218T000000  510000.0         3       2.00         1680   \n",
       "\n",
       "   sqft_lot  floors  waterfront  view     ...      grade  sqft_above  \\\n",
       "0      5650     1.0           0     0     ...          7        1180   \n",
       "1      7242     2.0           0     0     ...          7        2170   \n",
       "2     10000     1.0           0     0     ...          6         770   \n",
       "3      5000     1.0           0     0     ...          7        1050   \n",
       "4      8080     1.0           0     0     ...          8        1680   \n",
       "\n",
       "   sqft_basement  yr_built  yr_renovated  zipcode      lat     long  \\\n",
       "0              0      1955             0    98178  47.5112 -122.257   \n",
       "1            400      1951          1991    98125  47.7210 -122.319   \n",
       "2              0      1933             0    98028  47.7379 -122.233   \n",
       "3            910      1965             0    98136  47.5208 -122.393   \n",
       "4              0      1987             0    98074  47.6168 -122.045   \n",
       "\n",
       "   sqft_living15  sqft_lot15  \n",
       "0           1340        5650  \n",
       "1           1690        7639  \n",
       "2           2720        8062  \n",
       "3           1360        5000  \n",
       "4           1800        7503  \n",
       "\n",
       "[5 rows x 21 columns]"
      ]
     },
     "execution_count": 3,
     "metadata": {},
     "output_type": "execute_result"
    }
   ],
   "source": [
    "df.head()"
   ]
  },
  {
   "cell_type": "code",
   "execution_count": 4,
   "metadata": {},
   "outputs": [
    {
     "data": {
      "text/plain": [
       "453873"
      ]
     },
     "execution_count": 4,
     "metadata": {},
     "output_type": "execute_result"
    }
   ],
   "source": [
    "df.size"
   ]
  },
  {
   "cell_type": "code",
   "execution_count": 5,
   "metadata": {},
   "outputs": [
    {
     "data": {
      "text/plain": [
       "(21613, 21)"
      ]
     },
     "execution_count": 5,
     "metadata": {},
     "output_type": "execute_result"
    }
   ],
   "source": [
    "df.shape"
   ]
  },
  {
   "cell_type": "code",
   "execution_count": 6,
   "metadata": {},
   "outputs": [
    {
     "name": "stdout",
     "output_type": "stream",
     "text": [
      "<class 'pandas.core.frame.DataFrame'>\n",
      "RangeIndex: 21613 entries, 0 to 21612\n",
      "Data columns (total 21 columns):\n",
      "id               21613 non-null int64\n",
      "date             21613 non-null object\n",
      "price            21613 non-null float64\n",
      "bedrooms         21613 non-null int64\n",
      "bathrooms        21613 non-null float64\n",
      "sqft_living      21613 non-null int64\n",
      "sqft_lot         21613 non-null int64\n",
      "floors           21613 non-null float64\n",
      "waterfront       21613 non-null int64\n",
      "view             21613 non-null int64\n",
      "condition        21613 non-null int64\n",
      "grade            21613 non-null int64\n",
      "sqft_above       21613 non-null int64\n",
      "sqft_basement    21613 non-null int64\n",
      "yr_built         21613 non-null int64\n",
      "yr_renovated     21613 non-null int64\n",
      "zipcode          21613 non-null int64\n",
      "lat              21613 non-null float64\n",
      "long             21613 non-null float64\n",
      "sqft_living15    21613 non-null int64\n",
      "sqft_lot15       21613 non-null int64\n",
      "dtypes: float64(5), int64(15), object(1)\n",
      "memory usage: 3.5+ MB\n"
     ]
    }
   ],
   "source": [
    "df.info()"
   ]
  },
  {
   "cell_type": "code",
   "execution_count": 7,
   "metadata": {},
   "outputs": [
    {
     "data": {
      "text/plain": [
       "<bound method NDFrame.describe of                id             date      price  bedrooms  bathrooms  \\\n",
       "0      7129300520  20141013T000000   221900.0         3       1.00   \n",
       "1      6414100192  20141209T000000   538000.0         3       2.25   \n",
       "2      5631500400  20150225T000000   180000.0         2       1.00   \n",
       "3      2487200875  20141209T000000   604000.0         4       3.00   \n",
       "4      1954400510  20150218T000000   510000.0         3       2.00   \n",
       "5      7237550310  20140512T000000  1225000.0         4       4.50   \n",
       "6      1321400060  20140627T000000   257500.0         3       2.25   \n",
       "7      2008000270  20150115T000000   291850.0         3       1.50   \n",
       "8      2414600126  20150415T000000   229500.0         3       1.00   \n",
       "9      3793500160  20150312T000000   323000.0         3       2.50   \n",
       "10     1736800520  20150403T000000   662500.0         3       2.50   \n",
       "11     9212900260  20140527T000000   468000.0         2       1.00   \n",
       "12      114101516  20140528T000000   310000.0         3       1.00   \n",
       "13     6054650070  20141007T000000   400000.0         3       1.75   \n",
       "14     1175000570  20150312T000000   530000.0         5       2.00   \n",
       "15     9297300055  20150124T000000   650000.0         4       3.00   \n",
       "16     1875500060  20140731T000000   395000.0         3       2.00   \n",
       "17     6865200140  20140529T000000   485000.0         4       1.00   \n",
       "18       16000397  20141205T000000   189000.0         2       1.00   \n",
       "19     7983200060  20150424T000000   230000.0         3       1.00   \n",
       "20     6300500875  20140514T000000   385000.0         4       1.75   \n",
       "21     2524049179  20140826T000000  2000000.0         3       2.75   \n",
       "22     7137970340  20140703T000000   285000.0         5       2.50   \n",
       "23     8091400200  20140516T000000   252700.0         2       1.50   \n",
       "24     3814700200  20141120T000000   329000.0         3       2.25   \n",
       "25     1202000200  20141103T000000   233000.0         3       2.00   \n",
       "26     1794500383  20140626T000000   937000.0         3       1.75   \n",
       "27     3303700376  20141201T000000   667000.0         3       1.00   \n",
       "28     5101402488  20140624T000000   438000.0         3       1.75   \n",
       "29     1873100390  20150302T000000   719000.0         4       2.50   \n",
       "...           ...              ...        ...       ...        ...   \n",
       "21583  2025049203  20140610T000000   399950.0         2       1.00   \n",
       "21584   952006823  20141202T000000   380000.0         3       2.50   \n",
       "21585  3832050760  20140828T000000   270000.0         3       2.50   \n",
       "21586  2767604724  20141015T000000   505000.0         2       2.50   \n",
       "21587  6632300207  20150305T000000   385000.0         3       2.50   \n",
       "21588  2767600688  20141113T000000   414500.0         2       1.50   \n",
       "21589  7570050450  20140910T000000   347500.0         3       2.50   \n",
       "21590  7430200100  20140514T000000  1222500.0         4       3.50   \n",
       "21591  4140940150  20141002T000000   572000.0         4       2.75   \n",
       "21592  1931300412  20150416T000000   475000.0         3       2.25   \n",
       "21593  8672200110  20150317T000000  1088000.0         5       3.75   \n",
       "21594  5087900040  20141017T000000   350000.0         4       2.75   \n",
       "21595  1972201967  20141031T000000   520000.0         2       2.25   \n",
       "21596  7502800100  20140813T000000   679950.0         5       2.75   \n",
       "21597   191100405  20150421T000000  1575000.0         4       3.25   \n",
       "21598  8956200760  20141013T000000   541800.0         4       2.50   \n",
       "21599  7202300110  20140915T000000   810000.0         4       3.00   \n",
       "21600   249000205  20141015T000000  1537000.0         5       3.75   \n",
       "21601  5100403806  20150407T000000   467000.0         3       2.50   \n",
       "21602   844000965  20140626T000000   224000.0         3       1.75   \n",
       "21603  7852140040  20140825T000000   507250.0         3       2.50   \n",
       "21604  9834201367  20150126T000000   429000.0         3       2.00   \n",
       "21605  3448900210  20141014T000000   610685.0         4       2.50   \n",
       "21606  7936000429  20150326T000000  1007500.0         4       3.50   \n",
       "21607  2997800021  20150219T000000   475000.0         3       2.50   \n",
       "21608   263000018  20140521T000000   360000.0         3       2.50   \n",
       "21609  6600060120  20150223T000000   400000.0         4       2.50   \n",
       "21610  1523300141  20140623T000000   402101.0         2       0.75   \n",
       "21611   291310100  20150116T000000   400000.0         3       2.50   \n",
       "21612  1523300157  20141015T000000   325000.0         2       0.75   \n",
       "\n",
       "       sqft_living  sqft_lot  floors  waterfront  view     ...      grade  \\\n",
       "0             1180      5650     1.0           0     0     ...          7   \n",
       "1             2570      7242     2.0           0     0     ...          7   \n",
       "2              770     10000     1.0           0     0     ...          6   \n",
       "3             1960      5000     1.0           0     0     ...          7   \n",
       "4             1680      8080     1.0           0     0     ...          8   \n",
       "5             5420    101930     1.0           0     0     ...         11   \n",
       "6             1715      6819     2.0           0     0     ...          7   \n",
       "7             1060      9711     1.0           0     0     ...          7   \n",
       "8             1780      7470     1.0           0     0     ...          7   \n",
       "9             1890      6560     2.0           0     0     ...          7   \n",
       "10            3560      9796     1.0           0     0     ...          8   \n",
       "11            1160      6000     1.0           0     0     ...          7   \n",
       "12            1430     19901     1.5           0     0     ...          7   \n",
       "13            1370      9680     1.0           0     0     ...          7   \n",
       "14            1810      4850     1.5           0     0     ...          7   \n",
       "15            2950      5000     2.0           0     3     ...          9   \n",
       "16            1890     14040     2.0           0     0     ...          7   \n",
       "17            1600      4300     1.5           0     0     ...          7   \n",
       "18            1200      9850     1.0           0     0     ...          7   \n",
       "19            1250      9774     1.0           0     0     ...          7   \n",
       "20            1620      4980     1.0           0     0     ...          7   \n",
       "21            3050     44867     1.0           0     4     ...          9   \n",
       "22            2270      6300     2.0           0     0     ...          8   \n",
       "23            1070      9643     1.0           0     0     ...          7   \n",
       "24            2450      6500     2.0           0     0     ...          8   \n",
       "25            1710      4697     1.5           0     0     ...          6   \n",
       "26            2450      2691     2.0           0     0     ...          8   \n",
       "27            1400      1581     1.5           0     0     ...          8   \n",
       "28            1520      6380     1.0           0     0     ...          7   \n",
       "29            2570      7173     2.0           0     0     ...          8   \n",
       "...            ...       ...     ...         ...   ...     ...        ...   \n",
       "21583          710      1157     2.0           0     0     ...          7   \n",
       "21584         1260       900     2.0           0     0     ...          7   \n",
       "21585         1870      5000     2.0           0     0     ...          7   \n",
       "21586         1430      1201     3.0           0     0     ...          8   \n",
       "21587         1520      1488     3.0           0     0     ...          8   \n",
       "21588         1210      1278     2.0           0     0     ...          8   \n",
       "21589         2540      4760     2.0           0     0     ...          8   \n",
       "21590         4910      9444     1.5           0     0     ...         11   \n",
       "21591         2770      3852     2.0           0     0     ...          8   \n",
       "21592         1190      1200     3.0           0     0     ...          8   \n",
       "21593         4170      8142     2.0           0     2     ...         10   \n",
       "21594         2500      5995     2.0           0     0     ...          8   \n",
       "21595         1530       981     3.0           0     0     ...          8   \n",
       "21596         3600      9437     2.0           0     0     ...          9   \n",
       "21597         3410     10125     2.0           0     0     ...         10   \n",
       "21598         3118      7866     2.0           0     2     ...          9   \n",
       "21599         3990      7838     2.0           0     0     ...          9   \n",
       "21600         4470      8088     2.0           0     0     ...         11   \n",
       "21601         1425      1179     3.0           0     0     ...          8   \n",
       "21602         1500     11968     1.0           0     0     ...          6   \n",
       "21603         2270      5536     2.0           0     0     ...          8   \n",
       "21604         1490      1126     3.0           0     0     ...          8   \n",
       "21605         2520      6023     2.0           0     0     ...          9   \n",
       "21606         3510      7200     2.0           0     0     ...          9   \n",
       "21607         1310      1294     2.0           0     0     ...          8   \n",
       "21608         1530      1131     3.0           0     0     ...          8   \n",
       "21609         2310      5813     2.0           0     0     ...          8   \n",
       "21610         1020      1350     2.0           0     0     ...          7   \n",
       "21611         1600      2388     2.0           0     0     ...          8   \n",
       "21612         1020      1076     2.0           0     0     ...          7   \n",
       "\n",
       "       sqft_above  sqft_basement  yr_built  yr_renovated  zipcode      lat  \\\n",
       "0            1180              0      1955             0    98178  47.5112   \n",
       "1            2170            400      1951          1991    98125  47.7210   \n",
       "2             770              0      1933             0    98028  47.7379   \n",
       "3            1050            910      1965             0    98136  47.5208   \n",
       "4            1680              0      1987             0    98074  47.6168   \n",
       "5            3890           1530      2001             0    98053  47.6561   \n",
       "6            1715              0      1995             0    98003  47.3097   \n",
       "7            1060              0      1963             0    98198  47.4095   \n",
       "8            1050            730      1960             0    98146  47.5123   \n",
       "9            1890              0      2003             0    98038  47.3684   \n",
       "10           1860           1700      1965             0    98007  47.6007   \n",
       "11            860            300      1942             0    98115  47.6900   \n",
       "12           1430              0      1927             0    98028  47.7558   \n",
       "13           1370              0      1977             0    98074  47.6127   \n",
       "14           1810              0      1900             0    98107  47.6700   \n",
       "15           1980            970      1979             0    98126  47.5714   \n",
       "16           1890              0      1994             0    98019  47.7277   \n",
       "17           1600              0      1916             0    98103  47.6648   \n",
       "18           1200              0      1921             0    98002  47.3089   \n",
       "19           1250              0      1969             0    98003  47.3343   \n",
       "20            860            760      1947             0    98133  47.7025   \n",
       "21           2330            720      1968             0    98040  47.5316   \n",
       "22           2270              0      1995             0    98092  47.3266   \n",
       "23           1070              0      1985             0    98030  47.3533   \n",
       "24           2450              0      1985             0    98030  47.3739   \n",
       "25           1710              0      1941             0    98002  47.3048   \n",
       "26           1750            700      1915             0    98119  47.6386   \n",
       "27           1400              0      1909             0    98112  47.6221   \n",
       "28            790            730      1948             0    98115  47.6950   \n",
       "29           2570              0      2005             0    98052  47.7073   \n",
       "...           ...            ...       ...           ...      ...      ...   \n",
       "21583         710              0      1943             0    98102  47.6413   \n",
       "21584         940            320      2007             0    98116  47.5621   \n",
       "21585        1870              0      2009             0    98042  47.3339   \n",
       "21586        1430              0      2009             0    98107  47.6707   \n",
       "21587        1520              0      2006             0    98125  47.7337   \n",
       "21588        1020            190      2007             0    98117  47.6756   \n",
       "21589        2540              0      2010             0    98038  47.3452   \n",
       "21590        3110           1800      2007             0    98074  47.6502   \n",
       "21591        2770              0      2014             0    98178  47.5001   \n",
       "21592        1190              0      2008             0    98103  47.6542   \n",
       "21593        4170              0      2006             0    98056  47.5354   \n",
       "21594        2500              0      2008             0    98042  47.3749   \n",
       "21595        1480             50      2006             0    98103  47.6533   \n",
       "21596        3600              0      2014             0    98059  47.4822   \n",
       "21597        3410              0      2007             0    98040  47.5653   \n",
       "21598        3118              0      2014             0    98001  47.2931   \n",
       "21599        3990              0      2003             0    98053  47.6857   \n",
       "21600        4470              0      2008             0    98004  47.6321   \n",
       "21601        1425              0      2008             0    98125  47.6963   \n",
       "21602        1500              0      2014             0    98010  47.3095   \n",
       "21603        2270              0      2003             0    98065  47.5389   \n",
       "21604        1490              0      2014             0    98144  47.5699   \n",
       "21605        2520              0      2014             0    98056  47.5137   \n",
       "21606        2600            910      2009             0    98136  47.5537   \n",
       "21607        1180            130      2008             0    98116  47.5773   \n",
       "21608        1530              0      2009             0    98103  47.6993   \n",
       "21609        2310              0      2014             0    98146  47.5107   \n",
       "21610        1020              0      2009             0    98144  47.5944   \n",
       "21611        1600              0      2004             0    98027  47.5345   \n",
       "21612        1020              0      2008             0    98144  47.5941   \n",
       "\n",
       "          long  sqft_living15  sqft_lot15  \n",
       "0     -122.257           1340        5650  \n",
       "1     -122.319           1690        7639  \n",
       "2     -122.233           2720        8062  \n",
       "3     -122.393           1360        5000  \n",
       "4     -122.045           1800        7503  \n",
       "5     -122.005           4760      101930  \n",
       "6     -122.327           2238        6819  \n",
       "7     -122.315           1650        9711  \n",
       "8     -122.337           1780        8113  \n",
       "9     -122.031           2390        7570  \n",
       "10    -122.145           2210        8925  \n",
       "11    -122.292           1330        6000  \n",
       "12    -122.229           1780       12697  \n",
       "13    -122.045           1370       10208  \n",
       "14    -122.394           1360        4850  \n",
       "15    -122.375           2140        4000  \n",
       "16    -121.962           1890       14018  \n",
       "17    -122.343           1610        4300  \n",
       "18    -122.210           1060        5095  \n",
       "19    -122.306           1280        8850  \n",
       "20    -122.341           1400        4980  \n",
       "21    -122.233           4110       20336  \n",
       "22    -122.169           2240        7005  \n",
       "23    -122.166           1220        8386  \n",
       "24    -122.172           2200        6865  \n",
       "25    -122.218           1030        4705  \n",
       "26    -122.360           1760        3573  \n",
       "27    -122.314           1860        3861  \n",
       "28    -122.304           1520        6235  \n",
       "29    -122.110           2630        6026  \n",
       "...        ...            ...         ...  \n",
       "21583 -122.329           1370        1173  \n",
       "21584 -122.384           1310        1415  \n",
       "21585 -122.055           2170        5399  \n",
       "21586 -122.381           1430        1249  \n",
       "21587 -122.309           1520        1497  \n",
       "21588 -122.375           1210        1118  \n",
       "21589 -122.022           2540        4571  \n",
       "21590 -122.066           4560       11063  \n",
       "21591 -122.232           1810        5641  \n",
       "21592 -122.346           1180        1224  \n",
       "21593 -122.181           3030        7980  \n",
       "21594 -122.107           2530        5988  \n",
       "21595 -122.346           1530        1282  \n",
       "21596 -122.131           3550        9421  \n",
       "21597 -122.223           2290       10125  \n",
       "21598 -122.264           2673        6500  \n",
       "21599 -122.046           3370        6814  \n",
       "21600 -122.200           2780        8964  \n",
       "21601 -122.318           1285        1253  \n",
       "21602 -122.002           1320       11303  \n",
       "21603 -121.881           2270        5731  \n",
       "21604 -122.288           1400        1230  \n",
       "21605 -122.167           2520        6023  \n",
       "21606 -122.398           2050        6200  \n",
       "21607 -122.409           1330        1265  \n",
       "21608 -122.346           1530        1509  \n",
       "21609 -122.362           1830        7200  \n",
       "21610 -122.299           1020        2007  \n",
       "21611 -122.069           1410        1287  \n",
       "21612 -122.299           1020        1357  \n",
       "\n",
       "[21613 rows x 21 columns]>"
      ]
     },
     "execution_count": 7,
     "metadata": {},
     "output_type": "execute_result"
    }
   ],
   "source": [
    "df.describe"
   ]
  },
  {
   "cell_type": "code",
   "execution_count": 8,
   "metadata": {},
   "outputs": [
    {
     "data": {
      "text/plain": [
       "id               0\n",
       "date             0\n",
       "price            0\n",
       "bedrooms         0\n",
       "bathrooms        0\n",
       "sqft_living      0\n",
       "sqft_lot         0\n",
       "floors           0\n",
       "waterfront       0\n",
       "view             0\n",
       "condition        0\n",
       "grade            0\n",
       "sqft_above       0\n",
       "sqft_basement    0\n",
       "yr_built         0\n",
       "yr_renovated     0\n",
       "zipcode          0\n",
       "lat              0\n",
       "long             0\n",
       "sqft_living15    0\n",
       "sqft_lot15       0\n",
       "dtype: int64"
      ]
     },
     "execution_count": 8,
     "metadata": {},
     "output_type": "execute_result"
    }
   ],
   "source": [
    "df.isnull().sum()"
   ]
  },
  {
   "cell_type": "markdown",
   "metadata": {},
   "source": [
    "#### No null values are present in the dataset"
   ]
  },
  {
   "cell_type": "code",
   "execution_count": 9,
   "metadata": {},
   "outputs": [
    {
     "data": {
      "text/plain": [
       "<matplotlib.axes._subplots.AxesSubplot at 0x17139f8df60>"
      ]
     },
     "execution_count": 9,
     "metadata": {},
     "output_type": "execute_result"
    },
    {
     "data": {
      "image/png": "[encoded data removed]",
      "text/plain": [
       "<Figure size 720x576 with 1 Axes>"
      ]
     },
     "metadata": {},
     "output_type": "display_data"
    }
   ],
   "source": [
    "plt.figure(figsize=(10,8))\n",
    "sns.countplot(x='bedrooms', data=df)"
   ]
  },
  {
   "cell_type": "code",
   "execution_count": 10,
   "metadata": {},
   "outputs": [
    {
     "data": {
      "text/plain": [
       "<matplotlib.axes._subplots.AxesSubplot at 0x17139eb5dd8>"
      ]
     },
     "execution_count": 10,
     "metadata": {},
     "output_type": "execute_result"
    },
    {
     "data": {
      "image/png": "[encoded data removed]",
      "text/plain": [
       "<Figure size 432x288 with 1 Axes>"
      ]
     },
     "metadata": {},
     "output_type": "display_data"
    }
   ],
   "source": [
    "df.condition.value_counts().plot(kind='bar')"
   ]
  },
  {
   "cell_type": "code",
   "execution_count": 11,
   "metadata": {},
   "outputs": [
    {
     "data": {
      "text/plain": [
       "<matplotlib.axes._subplots.AxesSubplot at 0x17139f37f60>"
      ]
     },
     "execution_count": 11,
     "metadata": {},
     "output_type": "execute_result"
    },
    {
     "data": {
      "image/png": "[encoded data removed]",
      "text/plain": [
       "<Figure size 432x288 with 1 Axes>"
      ]
     },
     "metadata": {},
     "output_type": "display_data"
    }
   ],
   "source": [
    "df.floors.value_counts().plot(kind='bar')"
   ]
  },
  {
   "cell_type": "code",
   "execution_count": 12,
   "metadata": {},
   "outputs": [
    {
     "data": {
      "text/plain": [
       "<matplotlib.axes._subplots.AxesSubplot at 0x1713a26bc50>"
      ]
     },
     "execution_count": 12,
     "metadata": {},
     "output_type": "execute_result"
    },
    {
     "data": {
      "image/png": "[encoded data removed]",
      "text/plain": [
       "<Figure size 432x288 with 1 Axes>"
      ]
     },
     "metadata": {},
     "output_type": "display_data"
    }
   ],
   "source": [
    "sns.boxplot(x='waterfront', y='price', data=df)"
   ]
  },
  {
   "cell_type": "code",
   "execution_count": 13,
   "metadata": {},
   "outputs": [
    {
     "data": {
      "text/plain": [
       "<matplotlib.axes._subplots.AxesSubplot at 0x1713a3481d0>"
      ]
     },
     "execution_count": 13,
     "metadata": {},
     "output_type": "execute_result"
    },
    {
     "data": {
      "image/png": "[encoded data removed]",
      "text/plain": [
       "<Figure size 432x288 with 1 Axes>"
      ]
     },
     "metadata": {},
     "output_type": "display_data"
    }
   ],
   "source": [
    "sns.regplot((df['sqft_living'] + df['sqft_basement']), df['price'], fit_reg=False)"
   ]
  },
  {
   "cell_type": "code",
   "execution_count": 15,
   "metadata": {},
   "outputs": [
    {
     "data": {
      "text/plain": [
       "<matplotlib.axes._subplots.AxesSubplot at 0x17139eb5cc0>"
      ]
     },
     "execution_count": 15,
     "metadata": {},
     "output_type": "execute_result"
    },
    {
     "data": {
      "image/png": "[encoded data removed]",
      "text/plain": [
       "<Figure size 720x504 with 1 Axes>"
      ]
     },
     "metadata": {},
     "output_type": "display_data"
    }
   ],
   "source": [
    "plt.figure(figsize=(10,7))\n",
    "sns.regplot(df['zipcode'], df['price'], x_jitter=0.4, scatter_kws={'alpha':0.3}, fit_reg=False)"
   ]
  },
  {
   "cell_type": "code",
   "execution_count": 17,
   "metadata": {},
   "outputs": [
    {
     "data": {
      "text/plain": [
       "<seaborn.axisgrid.FacetGrid at 0x1713a885c50>"
      ]
     },
     "execution_count": 17,
     "metadata": {},
     "output_type": "execute_result"
    },
    {
     "data": {
      "image/png": "[encoded data removed]",
      "text/plain": [
       "<Figure size 864x216 with 1 Axes>"
      ]
     },
     "metadata": {},
     "output_type": "display_data"
    }
   ],
   "source": [
    "grp = sns.FacetGrid(df, hue='waterfront', aspect=4)\n",
    "grp.map(sns.kdeplot, 'price', shade=True)"
   ]
  },
  {
   "cell_type": "markdown",
   "metadata": {},
   "source": [
    "# Training a Linear Regression Model"
   ]
  },
  {
   "cell_type": "markdown",
   "metadata": {},
   "source": [
    "## Train Test Split :"
   ]
  },
  {
   "cell_type": "code",
   "execution_count": 20,
   "metadata": {},
   "outputs": [],
   "source": [
    "from sklearn.model_selection import train_test_split\n",
    "X_train, X_test, y_train, y_test = train_test_split(X, y, test_size=0.30, random_state=101)"
   ]
  },
  {
   "cell_type": "code",
   "execution_count": 21,
   "metadata": {},
   "outputs": [],
   "source": [
    "X = df.drop(['id','date', 'price'], axis=1) \n",
    "y = df['price']"
   ]
  },
  {
   "cell_type": "markdown",
   "metadata": {},
   "source": [
    "# Creating and Training the Model"
   ]
  },
  {
   "cell_type": "code",
   "execution_count": 22,
   "metadata": {},
   "outputs": [
    {
     "data": {
      "text/plain": [
       "LinearRegression(copy_X=True, fit_intercept=True, n_jobs=1, normalize=False)"
      ]
     },
     "execution_count": 22,
     "metadata": {},
     "output_type": "execute_result"
    }
   ],
   "source": [
    "from sklearn.linear_model import LinearRegression\n",
    "LR = LinearRegression()\n",
    "LR.fit(X_train, y_train)"
   ]
  },
  {
   "cell_type": "markdown",
   "metadata": {},
   "source": [
    "# Model Evaluation"
   ]
  },
  {
   "cell_type": "code",
   "execution_count": 23,
   "metadata": {},
   "outputs": [
    {
     "name": "stdout",
     "output_type": "stream",
     "text": [
      "6646990.454999616\n"
     ]
    }
   ],
   "source": [
    "print(LR.intercept_)"
   ]
  },
  {
   "cell_type": "code",
   "execution_count": 25,
   "metadata": {},
   "outputs": [
    {
     "data": {
      "text/html": [
       "<div>\n",
       "<style scoped>\n",
       "    .dataframe tbody tr th:only-of-type {\n",
       "        vertical-align: middle;\n",
       "    }\n",
       "\n",
       "    .dataframe tbody tr th {\n",
       "        vertical-align: top;\n",
       "    }\n",
       "\n",
       "    .dataframe thead th {\n",
       "        text-align: right;\n",
       "    }\n",
       "</style>\n",
       "<table border=\"1\" class=\"dataframe\">\n",
       "  <thead>\n",
       "    <tr style=\"text-align: right;\">\n",
       "      <th></th>\n",
       "      <th>Coefficient</th>\n",
       "    </tr>\n",
       "  </thead>\n",
       "  <tbody>\n",
       "    <tr>\n",
       "      <th>bedrooms</th>\n",
       "      <td>-37269.763856</td>\n",
       "    </tr>\n",
       "    <tr>\n",
       "      <th>bathrooms</th>\n",
       "      <td>35937.972138</td>\n",
       "    </tr>\n",
       "    <tr>\n",
       "      <th>sqft_living</th>\n",
       "      <td>110.719980</td>\n",
       "    </tr>\n",
       "    <tr>\n",
       "      <th>sqft_lot</th>\n",
       "      <td>0.145043</td>\n",
       "    </tr>\n",
       "    <tr>\n",
       "      <th>floors</th>\n",
       "      <td>11521.161115</td>\n",
       "    </tr>\n",
       "    <tr>\n",
       "      <th>waterfront</th>\n",
       "      <td>550895.824634</td>\n",
       "    </tr>\n",
       "    <tr>\n",
       "      <th>view</th>\n",
       "      <td>51984.258678</td>\n",
       "    </tr>\n",
       "    <tr>\n",
       "      <th>condition</th>\n",
       "      <td>27986.792802</td>\n",
       "    </tr>\n",
       "    <tr>\n",
       "      <th>grade</th>\n",
       "      <td>96722.563856</td>\n",
       "    </tr>\n",
       "    <tr>\n",
       "      <th>sqft_above</th>\n",
       "      <td>71.259061</td>\n",
       "    </tr>\n",
       "    <tr>\n",
       "      <th>sqft_basement</th>\n",
       "      <td>39.460919</td>\n",
       "    </tr>\n",
       "    <tr>\n",
       "      <th>yr_built</th>\n",
       "      <td>-2625.601665</td>\n",
       "    </tr>\n",
       "    <tr>\n",
       "      <th>yr_renovated</th>\n",
       "      <td>19.159401</td>\n",
       "    </tr>\n",
       "    <tr>\n",
       "      <th>zipcode</th>\n",
       "      <td>-584.166231</td>\n",
       "    </tr>\n",
       "    <tr>\n",
       "      <th>lat</th>\n",
       "      <td>601147.155995</td>\n",
       "    </tr>\n",
       "    <tr>\n",
       "      <th>long</th>\n",
       "      <td>-217154.689092</td>\n",
       "    </tr>\n",
       "    <tr>\n",
       "      <th>sqft_living15</th>\n",
       "      <td>21.949761</td>\n",
       "    </tr>\n",
       "    <tr>\n",
       "      <th>sqft_lot15</th>\n",
       "      <td>-0.354517</td>\n",
       "    </tr>\n",
       "  </tbody>\n",
       "</table>\n",
       "</div>"
      ],
      "text/plain": [
       "                 Coefficient\n",
       "bedrooms       -37269.763856\n",
       "bathrooms       35937.972138\n",
       "sqft_living       110.719980\n",
       "sqft_lot            0.145043\n",
       "floors          11521.161115\n",
       "waterfront     550895.824634\n",
       "view            51984.258678\n",
       "condition       27986.792802\n",
       "grade           96722.563856\n",
       "sqft_above         71.259061\n",
       "sqft_basement      39.460919\n",
       "yr_built        -2625.601665\n",
       "yr_renovated       19.159401\n",
       "zipcode          -584.166231\n",
       "lat            601147.155995\n",
       "long          -217154.689092\n",
       "sqft_living15      21.949761\n",
       "sqft_lot15         -0.354517"
      ]
     },
     "execution_count": 25,
     "metadata": {},
     "output_type": "execute_result"
    }
   ],
   "source": [
    "pd.DataFrame(LR.coef_, X.columns, columns=['Coefficient'])"
   ]
  },
  {
   "cell_type": "markdown",
   "metadata": {},
   "source": [
    "## Prediction of our Model :-"
   ]
  },
  {
   "cell_type": "code",
   "execution_count": 28,
   "metadata": {},
   "outputs": [
    {
     "name": "stderr",
     "output_type": "stream",
     "text": [
      "G:\\Anaconda\\lib\\site-packages\\matplotlib\\axes\\_axes.py:6462: UserWarning: The 'normed' kwarg is deprecated, and has been replaced by the 'density' kwarg.\n",
      "  warnings.warn(\"The 'normed' kwarg is deprecated, and has been \"\n"
     ]
    },
    {
     "data": {
      "text/plain": [
       "<matplotlib.axes._subplots.AxesSubplot at 0x1713b0e3b00>"
      ]
     },
     "execution_count": 28,
     "metadata": {},
     "output_type": "execute_result"
    },
    {
     "data": {
      "image/png": "[encoded data removed]",
      "text/plain": [
       "<Figure size 432x288 with 1 Axes>"
      ]
     },
     "metadata": {},
     "output_type": "display_data"
    }
   ],
   "source": [
    "predictions = LR.predict(X_test)\n",
    "sns.distplot((y_test - predictions), bins=50)"
   ]
  },
  {
   "cell_type": "code",
   "execution_count": 29,
   "metadata": {},
   "outputs": [
    {
     "data": {
      "text/plain": [
       "<matplotlib.collections.PathCollection at 0x1713a7fee48>"
      ]
     },
     "execution_count": 29,
     "metadata": {},
     "output_type": "execute_result"
    },
    {
     "data": {
      "image/png": "[encoded data removed]",
      "text/plain": [
       "<Figure size 432x288 with 1 Axes>"
      ]
     },
     "metadata": {},
     "output_type": "display_data"
    }
   ],
   "source": [
    "plt.scatter(y_test, predictions)"
   ]
  },
  {
   "cell_type": "markdown",
   "metadata": {},
   "source": [
    "# Regression Evaluation Metrics\n",
    "### Here are three common evaluation metrics for regression problems:\n",
    "\n",
    "1. Mean Absolute Error (MAE) is the mean of the absolute value of the errors:\n",
    "\n",
    "$$\\frac 1n\\sum_{i=1}^n|y_i-\\hat{y}_i|$$\n",
    "2. Mean Squared Error (MSE) is the mean of the squared errors:\n",
    "\n",
    "$$\\frac 1n\\sum_{i=1}^n(y_i-\\hat{y}_i)^2$$\n",
    "3. Root Mean Squared Error (RMSE) is the square root of the mean of the squared errors:\n",
    "\n",
    "$$\\sqrt{\\frac 1n\\sum_{i=1}^n(y_i-\\hat{y}_i)^2}$$"
   ]
  },
  {
   "cell_type": "code",
   "execution_count": 30,
   "metadata": {},
   "outputs": [
    {
     "name": "stdout",
     "output_type": "stream",
     "text": [
      "M.A.E : 126021.85241879124\n",
      "M.S.E : 41043239302.62759\n",
      "R.M.S.E : 202591.31102450466\n"
     ]
    }
   ],
   "source": [
    "from sklearn import metrics\n",
    "\n",
    "print('M.A.E :', metrics.mean_absolute_error(y_test, predictions))\n",
    "print('M.S.E :', metrics.mean_squared_error(y_test, predictions))\n",
    "print('R.M.S.E :', np.sqrt(metrics.mean_squared_error(y_test, predictions)))"
   ]
  },
  {
   "cell_type": "code",
   "execution_count": 31,
   "metadata": {},
   "outputs": [
    {
     "data": {
      "text/plain": [
       "0.7074085330779525"
      ]
     },
     "execution_count": 31,
     "metadata": {},
     "output_type": "execute_result"
    }
   ],
   "source": [
    "LR.score(X_test, y_test)"
   ]
  },
  {
   "cell_type": "code",
   "execution_count": null,
   "metadata": {},
   "outputs": [],
   "source": []
  }
 ],
 "metadata": {
  "kernelspec": {
   "display_name": "Python 3",
   "language": "python",
   "name": "python3"
  },
  "language_info": {
   "codemirror_mode": {
    "name": "ipython",
    "version": 3
   },
   "file_extension": ".py",
   "mimetype": "text/x-python",
   "name": "python",
   "nbconvert_exporter": "python",
   "pygments_lexer": "ipython3",
   "version": "3.6.5"
  }
 },
 "nbformat": 4,
 "nbformat_minor": 2
}
