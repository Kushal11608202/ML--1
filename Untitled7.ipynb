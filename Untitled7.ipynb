{
  "nbformat": 4,
  "nbformat_minor": 0,
  "metadata": {
    "colab": {
      "name": "Untitled7.ipynb",
      "version": "0.3.2",
      "provenance": []
    }
  },
  "cells": [
    {
      "cell_type": "markdown",
      "metadata": {
        "id": "view-in-github",
        "colab_type": "text"
      },
      "source": [
        "[View in Colaboratory](https://colab.research.google.com/github/Kushal11608202/ML--1/blob/master/Untitled7.ipynb)"
      ]
    },
    {
      "metadata": {
        "id": "l1aQ18TPHIL8",
        "colab_type": "text"
      },
      "cell_type": "markdown",
      "source": [
        "#Question-1"
      ]
    },
    {
      "metadata": {
        "id": "eHao3IRbHKyl",
        "colab_type": "code",
        "colab": {
          "base_uri": "https://localhost:8080/",
          "height": 34
        },
        "outputId": "bc6b8928-2fbb-4b01-9869-b463ae9f79c3"
      },
      "cell_type": "code",
      "source": [
        "from __future__ import division\n",
        "\n",
        "def myFnc(arg1,arg2,arg3):\n",
        "    D = arg1*arg2/arg3\n",
        "    print(D)\n",
        "\n",
        "A = 11/36    # P(A)\n",
        "B = 6/36     # P(B)\n",
        "C = 2/36     # P(A/B)\n",
        "\n",
        "myFnc(C,B,A) # P(B/A)"
      ],
      "execution_count": 6,
      "outputs": [
        {
          "output_type": "stream",
          "text": [
            "0.030303030303\n"
          ],
          "name": "stdout"
        }
      ]
    },
    {
      "metadata": {
        "id": "8hINNTbxJLAo",
        "colab_type": "text"
      },
      "cell_type": "markdown",
      "source": [
        "#Question-2"
      ]
    },
    {
      "metadata": {
        "id": "f1xDve-7JOCv",
        "colab_type": "code",
        "colab": {
          "base_uri": "https://localhost:8080/",
          "height": 34
        },
        "outputId": "65ffaef8-3cd9-4226-f4ba-815920cedc4a"
      },
      "cell_type": "code",
      "source": [
        "from __future__ import division\n",
        "\n",
        "# B1-BAG1 (4W + 6B)\n",
        "# B2-BAG2 (4W + 3B)\n",
        "\n",
        "B1 = 1/2      # P(B1)\n",
        "B2 = 1/2      # P(B2)\n",
        "BB1 = 6/10    # P(BLACK FROM BAG B1)\n",
        "BB2 = 3/7     # P(BLACK FROM BAG B2)\n",
        "\n",
        "B1B = BB1*B1/(BB1+BB2) # if the ball found to be black then probability that it was drawn from Bag I\n",
        "\n",
        "print(B1B)"
      ],
      "execution_count": 7,
      "outputs": [
        {
          "output_type": "stream",
          "text": [
            "0.291666666667\n"
          ],
          "name": "stdout"
        }
      ]
    },
    {
      "metadata": {
        "id": "x1HmHUajMROw",
        "colab_type": "text"
      },
      "cell_type": "markdown",
      "source": [
        "#Question-3"
      ]
    },
    {
      "metadata": {
        "id": "nKCy0QY3MTmy",
        "colab_type": "code",
        "colab": {
          "base_uri": "https://localhost:8080/",
          "height": 34
        },
        "outputId": "3e1c425f-c724-4d90-cec8-a3ca6b0cb5b7"
      },
      "cell_type": "code",
      "source": [
        "from __future__ import division\n",
        "\n",
        "# A => Probability that man speaks truth\n",
        "# B => Probability that the die getting the number four\n",
        "# Here A and B are Independent Events then P(A intersection B) = P(A)*P(B)\n",
        "# If A and B are independent Events then Anot and Bnot are also Independent Events P(Anot intersection Bnot) = P(Anot)*P(Bnot)\n",
        "\n",
        "A = 2/3\n",
        "Anot = 1/3 # Anot (i.e, man speaks lie) = 1 - (2/3) = 1/3\n",
        "\n",
        "B = 1/6\n",
        "Bnot = 5/6 # Bnot (i.e, die doesn't get four) = 1 - (1/6) = 5/6\n",
        "\n",
        "Acc = (A * B) + (Anot * Bnot) # Probab. that the no. obtained actually Four is = P(A intersection B) + P(Anot intersection Bnot)\n",
        "\n",
        "print(Acc)"
      ],
      "execution_count": 8,
      "outputs": [
        {
          "output_type": "stream",
          "text": [
            "0.388888888889\n"
          ],
          "name": "stdout"
        }
      ]
    }
  ]
}