{
 "cells": [
  {
   "cell_type": "markdown",
   "metadata": {},
   "source": [
    "# Question - 1\n",
    "\n",
    "### Explanation (Steps) :\n",
    "\n",
    "1. a, b, and c are inputs\n",
    "2. u = a * b                  --->(1)\n",
    "3. v = a * c                  --->(2)\n",
    "4. w = b + c                  --->(3)\n",
    "5. F = u + v - w              --->(4)\n",
    "\n",
    "6. Now, Substituting the values of u , v and w in F i.e, Equations->(1),(2),(3) in Equation->(4)\n",
    "\n",
    "7. F = (a*b) + (a*c) - (b+c)\n",
    "8. F = a(b+c) - (b+c)\n",
    "9. F = (a-1)(b+c)"
   ]
  },
  {
   "cell_type": "code",
   "execution_count": 1,
   "metadata": {},
   "outputs": [
    {
     "name": "stdout",
     "output_type": "stream",
     "text": [
      "F = (a-1)(b+c)\n"
     ]
    }
   ],
   "source": [
    "print('F = (a-1)(b+c)')"
   ]
  },
  {
   "cell_type": "markdown",
   "metadata": {},
   "source": [
    "# Question - 2\n",
    "\n",
    "\n",
    "### Input values and their weights are given by :"
   ]
  },
  {
   "cell_type": "code",
   "execution_count": 2,
   "metadata": {},
   "outputs": [],
   "source": [
    "I1 = -0.06\n",
    "I2 = -2.5\n",
    "I3 = 1.4\n",
    "\n",
    "W1 = 2.7\n",
    "W2 = -8.6\n",
    "W3 = 0.002"
   ]
  },
  {
   "cell_type": "markdown",
   "metadata": {},
   "source": [
    "### The value of x is :"
   ]
  },
  {
   "cell_type": "code",
   "execution_count": 3,
   "metadata": {},
   "outputs": [
    {
     "name": "stdout",
     "output_type": "stream",
     "text": [
      "21.3408\n"
     ]
    }
   ],
   "source": [
    "x = (W1*I1) + (W2*I2) + (W3*I3)\n",
    "print(x)"
   ]
  },
  {
   "cell_type": "markdown",
   "metadata": {},
   "source": [
    "### The value of F(x) is :"
   ]
  },
  {
   "cell_type": "code",
   "execution_count": 4,
   "metadata": {},
   "outputs": [
    {
     "name": "stdout",
     "output_type": "stream",
     "text": [
      "0.9999999994607274\n"
     ]
    }
   ],
   "source": [
    "import math\n",
    "fx = 1 / (1 + math.exp(-x))\n",
    "print(fx)"
   ]
  },
  {
   "cell_type": "code",
   "execution_count": 5,
   "metadata": {},
   "outputs": [],
   "source": [
    "bias = -1.1\n",
    "x1 = x + bias\n",
    "x1 = 1 / (1 + math.exp(-x1))"
   ]
  },
  {
   "cell_type": "code",
   "execution_count": 6,
   "metadata": {},
   "outputs": [
    {
     "name": "stdout",
     "output_type": "stream",
     "text": [
      "0.9999999983799357\n"
     ]
    }
   ],
   "source": [
    "print(x1)"
   ]
  },
  {
   "cell_type": "markdown",
   "metadata": {},
   "source": [
    "### If we take bias as -1.1 then their is not much affect considered on output.\n",
    "### If we does not have any bias value then we will not be able to produce output in the next layer which differs from 0 (the value that corresponds to the transformation of '0' when passed through the activation function) when the feature values are '0'. Bigger the bias value , it is easier to get the output as '1'. But if the bias value is much more negative then it is difficult to get the output as '1'."
   ]
  },
  {
   "cell_type": "code",
   "execution_count": null,
   "metadata": {},
   "outputs": [],
   "source": []
  }
 ],
 "metadata": {
  "kernelspec": {
   "display_name": "Python 3",
   "language": "python",
   "name": "python3"
  },
  "language_info": {
   "codemirror_mode": {
    "name": "ipython",
    "version": 3
   },
   "file_extension": ".py",
   "mimetype": "text/x-python",
   "name": "python",
   "nbconvert_exporter": "python",
   "pygments_lexer": "ipython3",
   "version": "3.6.5"
  }
 },
 "nbformat": 4,
 "nbformat_minor": 2
}
