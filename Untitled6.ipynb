{
  "nbformat": 4,
  "nbformat_minor": 0,
  "metadata": {
    "colab": {
      "name": "Untitled6.ipynb",
      "version": "0.3.2",
      "provenance": []
    }
  },
  "cells": [
    {
      "cell_type": "markdown",
      "metadata": {
        "id": "view-in-github",
        "colab_type": "text"
      },
      "source": [
        "[View in Colaboratory](https://colab.research.google.com/github/Kushal11608202/ML--1/blob/master/Untitled6.ipynb)"
      ]
    },
    {
      "metadata": {
        "id": "SZXip9WmaG_F",
        "colab_type": "text"
      },
      "cell_type": "markdown",
      "source": [
        "# Question-1"
      ]
    },
    {
      "metadata": {
        "id": "Y1mFoq6pS4s8",
        "colab_type": "code",
        "colab": {
          "base_uri": "https://localhost:8080/",
          "height": 221
        },
        "outputId": "312f6247-e98a-4056-d22e-ba11e58a446d"
      },
      "cell_type": "code",
      "source": [
        "import numpy as np\n",
        "import random\n",
        "\n",
        "a = np.random.rand(10,1)\n",
        "print(a)\n",
        "print('Mean of all the elements in array a is :')\n",
        "np.mean(a)"
      ],
      "execution_count": 4,
      "outputs": [
        {
          "output_type": "stream",
          "text": [
            "[[0.76893283]\n",
            " [0.45620155]\n",
            " [0.08722532]\n",
            " [0.72011347]\n",
            " [0.69081848]\n",
            " [0.88411966]\n",
            " [0.43843529]\n",
            " [0.74837839]\n",
            " [0.35522175]\n",
            " [0.04269045]]\n",
            "Mean of all the elements in array a is :\n"
          ],
          "name": "stdout"
        },
        {
          "output_type": "execute_result",
          "data": {
            "text/plain": [
              "0.5192137191622488"
            ]
          },
          "metadata": {
            "tags": []
          },
          "execution_count": 4
        }
      ]
    },
    {
      "metadata": {
        "id": "ZOg04uHQgE1p",
        "colab_type": "text"
      },
      "cell_type": "markdown",
      "source": [
        "# Question-2"
      ]
    },
    {
      "metadata": {
        "id": "lnMeOknEfjIK",
        "colab_type": "code",
        "colab": {
          "base_uri": "https://localhost:8080/",
          "height": 221
        },
        "outputId": "b7b739ca-804f-4612-ee4f-384f39af23bc"
      },
      "cell_type": "code",
      "source": [
        "b = np.random.randn(20,1)\n",
        "print(a)\n",
        "print('Variance of all the elements in array b is :')\n",
        "np.var(a)"
      ],
      "execution_count": 26,
      "outputs": [
        {
          "output_type": "stream",
          "text": [
            "[[0.76893283]\n",
            " [0.45620155]\n",
            " [0.08722532]\n",
            " [0.72011347]\n",
            " [0.69081848]\n",
            " [0.88411966]\n",
            " [0.43843529]\n",
            " [0.74837839]\n",
            " [0.35522175]\n",
            " [0.04269045]]\n",
            "Variance of all the elements in array b is :\n"
          ],
          "name": "stdout"
        },
        {
          "output_type": "execute_result",
          "data": {
            "text/plain": [
              "0.07689187845371455"
            ]
          },
          "metadata": {
            "tags": []
          },
          "execution_count": 26
        }
      ]
    },
    {
      "metadata": {
        "id": "WXN1pHCDf-rh",
        "colab_type": "code",
        "colab": {
          "base_uri": "https://localhost:8080/",
          "height": 51
        },
        "outputId": "9345a0da-1442-4828-c823-318e1a731d43"
      },
      "cell_type": "code",
      "source": [
        "print('Standard Deviation of all the elements in array b is :')\n",
        "np.std(a)"
      ],
      "execution_count": 27,
      "outputs": [
        {
          "output_type": "stream",
          "text": [
            "Standard Deviation of all the elements in array b is :\n"
          ],
          "name": "stdout"
        },
        {
          "output_type": "execute_result",
          "data": {
            "text/plain": [
              "0.2772938485681111"
            ]
          },
          "metadata": {
            "tags": []
          },
          "execution_count": 27
        }
      ]
    },
    {
      "metadata": {
        "id": "xVor_HC0gLH1",
        "colab_type": "text"
      },
      "cell_type": "markdown",
      "source": [
        "#Question-3"
      ]
    },
    {
      "metadata": {
        "id": "Hv6yMAn-gO2J",
        "colab_type": "code",
        "colab": {
          "base_uri": "https://localhost:8080/",
          "height": 935
        },
        "outputId": "2cfdc36f-a6f3-4ef9-f98a-c3e0c7840d92"
      },
      "cell_type": "code",
      "source": [
        "A = np.random.rand(10,20)\n",
        "B = np.random.rand(20,25)\n",
        "C = np.dot(A,B)\n",
        "print(C)\n",
        "print('Shape of new array is :')\n",
        "print(C.shape)\n",
        "print('Sum of all the elements in the new array is :')\n",
        "np.sum(C)"
      ],
      "execution_count": 29,
      "outputs": [
        {
          "output_type": "stream",
          "text": [
            "[[4.92021392 5.33494405 4.25728641 5.95758263 6.3232255  5.02262851\n",
            "  4.94239021 5.01493241 5.3173767  4.63130291 4.94716408 4.35232429\n",
            "  5.04103257 4.39097904 5.43317076 4.98659283 4.86134046 4.29310775\n",
            "  4.76717307 6.12688905 5.75611688 6.12316545 5.49973582 4.94577904\n",
            "  3.94716607]\n",
            " [3.84529305 3.83890544 3.97672081 5.33654496 4.92693675 4.15029607\n",
            "  4.77468144 3.76660941 3.29631044 4.09846076 3.37271824 4.59472306\n",
            "  4.09758198 4.0030899  5.28438443 3.35066634 3.50556215 3.62076406\n",
            "  4.84155153 3.75722323 4.43053021 5.1135046  4.68594207 3.42777021\n",
            "  4.73153595]\n",
            " [5.12809876 5.50238694 4.92491489 6.19936725 6.73472347 5.27062606\n",
            "  5.50946229 5.1041267  4.28960232 4.85306289 5.11664812 5.37537997\n",
            "  5.42059967 4.7334262  5.24736076 4.65062854 4.90634455 4.54515052\n",
            "  5.60989266 5.55783453 5.56325688 6.25470476 5.37320498 5.19047374\n",
            "  5.19305388]\n",
            " [4.10427689 4.98337492 4.27189919 5.17041454 5.24584405 4.94942703\n",
            "  5.25797052 4.72311199 4.38471496 4.35685498 4.11466822 5.17329969\n",
            "  4.19126502 4.70982453 5.09191266 4.49061925 4.45897334 3.03471833\n",
            "  4.60898166 4.29682227 5.33256636 4.82995815 5.79362399 3.85480267\n",
            "  4.62349867]\n",
            " [3.3292068  4.31322512 3.72106863 4.36528116 4.97355114 3.95610141\n",
            "  4.77413992 3.72242025 3.4449299  3.9715079  3.30956189 4.68318043\n",
            "  4.07221763 3.97804833 3.84576901 3.94517454 4.16170482 2.95679207\n",
            "  3.49511311 4.15136694 5.18046411 3.94245169 4.66863408 3.47697153\n",
            "  4.49156273]\n",
            " [4.78102777 5.44164801 3.65371235 5.65723791 5.81280764 4.56668847\n",
            "  5.1127334  4.42142193 4.51585399 4.04764173 4.8520451  4.24481593\n",
            "  5.39110531 3.99239703 4.76153227 4.30261792 4.35139184 4.42355585\n",
            "  4.28162509 5.42880534 5.862042   5.89118225 4.68999307 4.30068672\n",
            "  3.96434649]\n",
            " [3.58213512 4.37888741 3.34091491 3.81353645 4.06927415 4.41633534\n",
            "  4.3240534  2.75732396 4.18756799 3.24088187 3.03781932 3.95719882\n",
            "  3.43859673 3.65430646 3.65092033 3.48953434 3.92590196 3.78976661\n",
            "  3.09203316 4.33721828 4.91265208 4.06263205 4.34464681 3.29419441\n",
            "  3.38078017]\n",
            " [3.87675902 5.13978207 3.4485327  5.29696453 5.47983326 3.99340846\n",
            "  4.83171123 4.71074146 3.8260594  4.01023347 3.94796752 4.94723851\n",
            "  4.30328742 3.93282799 4.20123884 4.30207168 3.89672591 3.89520299\n",
            "  4.71216478 4.55324557 4.17582379 4.61900978 4.4269601  3.62256707\n",
            "  4.52711223]\n",
            " [4.68392736 5.29307036 4.14483889 6.15589854 5.94679397 4.46696002\n",
            "  5.50864625 4.41270936 4.87964717 4.66340333 4.49026805 4.98894583\n",
            "  4.51923637 4.42638363 5.51711976 5.05226316 4.87241222 4.82656634\n",
            "  4.7038219  6.04876407 5.61139242 5.49320758 5.15496759 5.03887631\n",
            "  4.60228672]\n",
            " [5.36698099 6.70060519 5.60619635 6.78694997 6.86489556 5.751169\n",
            "  6.45727009 5.45747922 5.51329246 5.08059854 5.39546508 7.11420825\n",
            "  6.13118054 5.32853165 5.90641081 5.75862952 5.86725132 4.44786374\n",
            "  5.2585287  5.61957247 7.07594019 6.27695955 6.45610052 4.78373638\n",
            "  5.84938769]]\n",
            "Shape of new array is :\n",
            "(10, 25)\n",
            "Sum of all the elements in the new array is :\n"
          ],
          "name": "stdout"
        },
        {
          "output_type": "execute_result",
          "data": {
            "text/plain": [
              "1175.5232361695794"
            ]
          },
          "metadata": {
            "tags": []
          },
          "execution_count": 29
        }
      ]
    },
    {
      "metadata": {
        "id": "F2xUzkSPhWwB",
        "colab_type": "text"
      },
      "cell_type": "markdown",
      "source": [
        "#Question-4"
      ]
    },
    {
      "metadata": {
        "id": "oJBsGWV7haEb",
        "colab_type": "code",
        "colab": {
          "base_uri": "https://localhost:8080/",
          "height": 374
        },
        "outputId": "d4acac99-caad-4284-d0dc-0495727d8fb4"
      },
      "cell_type": "code",
      "source": [
        "X = np.random.randn(10,1)\n",
        "print(X)\n",
        "Y = 1/(1+np.exp(X))\n",
        "print('New array after through function f(x) is :')\n",
        "print(Y)"
      ],
      "execution_count": 32,
      "outputs": [
        {
          "output_type": "stream",
          "text": [
            "[[ 0.91306711]\n",
            " [-0.44556125]\n",
            " [ 1.34500184]\n",
            " [ 1.02735924]\n",
            " [-1.11932444]\n",
            " [ 0.15689263]\n",
            " [-0.28969241]\n",
            " [ 1.276272  ]\n",
            " [-0.36381592]\n",
            " [ 0.93776726]]\n",
            "New array after through function f(x) is :\n",
            "[[0.28637262]\n",
            " [0.60958337]\n",
            " [0.20668871]\n",
            " [0.26359639]\n",
            " [0.75386338]\n",
            " [0.4608571 ]\n",
            " [0.57192083]\n",
            " [0.21818548]\n",
            " [0.58996385]\n",
            " [0.28135157]]\n"
          ],
          "name": "stdout"
        }
      ]
    }
  ]
}