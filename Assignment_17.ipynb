{
 "cells": [
  {
   "cell_type": "markdown",
   "metadata": {},
   "source": [
    "# Importing Libraries :"
   ]
  },
  {
   "cell_type": "code",
   "execution_count": 1,
   "metadata": {},
   "outputs": [],
   "source": [
    "import numpy as np\n",
    "import pandas as pd\n",
    "import matplotlib.pyplot as plt\n",
    "import seaborn as sns\n",
    "%matplotlib inline"
   ]
  },
  {
   "cell_type": "markdown",
   "metadata": {},
   "source": [
    "# Question - 1"
   ]
  },
  {
   "cell_type": "code",
   "execution_count": 2,
   "metadata": {},
   "outputs": [],
   "source": [
    "from sklearn.datasets import load_digits\n",
    "dig = load_digits()"
   ]
  },
  {
   "cell_type": "code",
   "execution_count": 3,
   "metadata": {},
   "outputs": [],
   "source": [
    "X = dig.data\n",
    "y = dig.target"
   ]
  },
  {
   "cell_type": "markdown",
   "metadata": {},
   "source": [
    "# Question - 2"
   ]
  },
  {
   "cell_type": "code",
   "execution_count": 4,
   "metadata": {},
   "outputs": [
    {
     "data": {
      "text/plain": [
       "StandardScaler(copy=True, with_mean=True, with_std=True)"
      ]
     },
     "execution_count": 4,
     "metadata": {},
     "output_type": "execute_result"
    }
   ],
   "source": [
    "from sklearn.preprocessing import StandardScaler\n",
    "scaler = StandardScaler()\n",
    "scaler.fit(X)"
   ]
  },
  {
   "cell_type": "code",
   "execution_count": 5,
   "metadata": {},
   "outputs": [],
   "source": [
    "X = scaler.transform(X)"
   ]
  },
  {
   "cell_type": "markdown",
   "metadata": {},
   "source": [
    "# Question - 3"
   ]
  },
  {
   "cell_type": "code",
   "execution_count": 6,
   "metadata": {},
   "outputs": [],
   "source": [
    "from sklearn.model_selection import train_test_split\n",
    "X_train, X_test, y_train, y_test = train_test_split(X, y, test_size=0.40, random_state=101)"
   ]
  },
  {
   "cell_type": "markdown",
   "metadata": {},
   "source": [
    "# Question - 4"
   ]
  },
  {
   "cell_type": "code",
   "execution_count": 7,
   "metadata": {},
   "outputs": [],
   "source": [
    "from sklearn.linear_model import LogisticRegression\n",
    "log = LogisticRegression()"
   ]
  },
  {
   "cell_type": "code",
   "execution_count": 8,
   "metadata": {},
   "outputs": [
    {
     "name": "stdout",
     "output_type": "stream",
     "text": [
      "0.9110147953033447\n"
     ]
    }
   ],
   "source": [
    "import time\n",
    "start = time.time()\n",
    "\n",
    "log.fit(X_train, y_train)\n",
    "\n",
    "end = time.time()\n",
    "print(end - start)"
   ]
  },
  {
   "cell_type": "code",
   "execution_count": 9,
   "metadata": {},
   "outputs": [],
   "source": [
    "predict = log.predict(X_test)"
   ]
  },
  {
   "cell_type": "code",
   "execution_count": 13,
   "metadata": {},
   "outputs": [
    {
     "name": "stdout",
     "output_type": "stream",
     "text": [
      "Accuracy Score : \n"
     ]
    },
    {
     "data": {
      "text/plain": [
       "0.9652294853963839"
      ]
     },
     "execution_count": 13,
     "metadata": {},
     "output_type": "execute_result"
    }
   ],
   "source": [
    "from sklearn.metrics import accuracy_score,confusion_matrix,classification_report\n",
    "print('Accuracy Score : ')\n",
    "accuracy_score(y_test, predict)"
   ]
  },
  {
   "cell_type": "code",
   "execution_count": 15,
   "metadata": {},
   "outputs": [
    {
     "name": "stdout",
     "output_type": "stream",
     "text": [
      "Confusion matrix : \n"
     ]
    },
    {
     "data": {
      "text/plain": [
       "array([[69,  0,  0,  0,  0,  0,  0,  0,  0,  0],\n",
       "       [ 0, 66,  0,  0,  0,  0,  0,  0,  3,  0],\n",
       "       [ 0,  0, 65,  0,  0,  0,  0,  0,  0,  0],\n",
       "       [ 0,  0,  0, 75,  0,  0,  0,  0,  1,  0],\n",
       "       [ 0,  0,  0,  0, 76,  0,  0,  0,  2,  0],\n",
       "       [ 1,  0,  0,  0,  0, 75,  0,  0,  0,  0],\n",
       "       [ 1,  0,  0,  0,  0,  0, 63,  0,  0,  0],\n",
       "       [ 0,  0,  0,  0,  2,  0,  0, 68,  1,  0],\n",
       "       [ 1,  5,  0,  1,  0,  1,  1,  0, 68,  1],\n",
       "       [ 0,  0,  0,  1,  0,  1,  0,  1,  1, 69]], dtype=int64)"
      ]
     },
     "execution_count": 15,
     "metadata": {},
     "output_type": "execute_result"
    }
   ],
   "source": [
    "print('Confusion matrix : ')\n",
    "confusion_matrix(y_test, predict)"
   ]
  },
  {
   "cell_type": "code",
   "execution_count": 17,
   "metadata": {},
   "outputs": [
    {
     "name": "stdout",
     "output_type": "stream",
     "text": [
      "classification report : \n",
      "             precision    recall  f1-score   support\n",
      "\n",
      "          0       0.96      1.00      0.98        69\n",
      "          1       0.93      0.96      0.94        69\n",
      "          2       1.00      1.00      1.00        65\n",
      "          3       0.97      0.99      0.98        76\n",
      "          4       0.97      0.97      0.97        78\n",
      "          5       0.97      0.99      0.98        76\n",
      "          6       0.98      0.98      0.98        64\n",
      "          7       0.99      0.96      0.97        71\n",
      "          8       0.89      0.87      0.88        78\n",
      "          9       0.99      0.95      0.97        73\n",
      "\n",
      "avg / total       0.97      0.97      0.97       719\n",
      "\n"
     ]
    }
   ],
   "source": [
    "print('classification report : ')\n",
    "print(classification_report(y_test, predict))"
   ]
  },
  {
   "cell_type": "markdown",
   "metadata": {},
   "source": [
    "# Question - 5"
   ]
  },
  {
   "cell_type": "code",
   "execution_count": 30,
   "metadata": {},
   "outputs": [],
   "source": [
    "from sklearn.decomposition import PCA\n",
    "pca = PCA(.98)"
   ]
  },
  {
   "cell_type": "code",
   "execution_count": 31,
   "metadata": {},
   "outputs": [
    {
     "data": {
      "text/plain": [
       "PCA(copy=True, iterated_power='auto', n_components=0.98, random_state=None,\n",
       "  svd_solver='auto', tol=0.0, whiten=False)"
      ]
     },
     "execution_count": 31,
     "metadata": {},
     "output_type": "execute_result"
    }
   ],
   "source": [
    "pca.fit(X_train)"
   ]
  },
  {
   "cell_type": "code",
   "execution_count": 32,
   "metadata": {},
   "outputs": [],
   "source": [
    "X_train = pca.transform(X_train)\n",
    "X_test = pca.transform(X_test)"
   ]
  },
  {
   "cell_type": "code",
   "execution_count": 33,
   "metadata": {},
   "outputs": [
    {
     "name": "stdout",
     "output_type": "stream",
     "text": [
      "(1078, 22)\n",
      "(719, 22)\n"
     ]
    }
   ],
   "source": [
    "print(X_train.shape)\n",
    "print(X_test.shape)"
   ]
  },
  {
   "cell_type": "code",
   "execution_count": 34,
   "metadata": {},
   "outputs": [],
   "source": [
    "log1 = LogisticRegression()"
   ]
  },
  {
   "cell_type": "code",
   "execution_count": 35,
   "metadata": {},
   "outputs": [
    {
     "name": "stdout",
     "output_type": "stream",
     "text": [
      "0.0887453556060791\n"
     ]
    }
   ],
   "source": [
    "start = time.time()\n",
    "\n",
    "log1.fit(X_train, y_train)\n",
    "\n",
    "end = time.time()\n",
    "print(end - start)"
   ]
  },
  {
   "cell_type": "code",
   "execution_count": 36,
   "metadata": {},
   "outputs": [],
   "source": [
    "predict1 = log1.predict(X_test)"
   ]
  },
  {
   "cell_type": "markdown",
   "metadata": {},
   "source": [
    "# Question - 6"
   ]
  },
  {
   "cell_type": "code",
   "execution_count": 37,
   "metadata": {},
   "outputs": [
    {
     "name": "stdout",
     "output_type": "stream",
     "text": [
      "Accuracy Score : \n"
     ]
    },
    {
     "data": {
      "text/plain": [
       "0.9346314325452016"
      ]
     },
     "execution_count": 37,
     "metadata": {},
     "output_type": "execute_result"
    }
   ],
   "source": [
    "print('Accuracy Score : ')\n",
    "accuracy_score(y_test, predict1)"
   ]
  },
  {
   "cell_type": "code",
   "execution_count": 38,
   "metadata": {},
   "outputs": [
    {
     "name": "stdout",
     "output_type": "stream",
     "text": [
      "Confusion matrix : \n"
     ]
    },
    {
     "data": {
      "text/plain": [
       "array([[69,  0,  0,  0,  0,  0,  0,  0,  0,  0],\n",
       "       [ 0, 65,  1,  0,  1,  1,  0,  0,  1,  0],\n",
       "       [ 0,  0, 63,  1,  0,  0,  0,  1,  0,  0],\n",
       "       [ 0,  0,  0, 71,  0,  0,  0,  2,  2,  1],\n",
       "       [ 0,  0,  0,  0, 76,  0,  0,  0,  2,  0],\n",
       "       [ 0,  0,  0,  1,  1, 72,  0,  0,  0,  2],\n",
       "       [ 1,  1,  0,  0,  0,  0, 62,  0,  0,  0],\n",
       "       [ 0,  1,  0,  0,  2,  0,  0, 68,  0,  0],\n",
       "       [ 0,  7,  1,  1,  0,  1,  3,  0, 61,  4],\n",
       "       [ 0,  2,  0,  1,  0,  1,  0,  1,  3, 65]], dtype=int64)"
      ]
     },
     "execution_count": 38,
     "metadata": {},
     "output_type": "execute_result"
    }
   ],
   "source": [
    "print('Confusion matrix : ')\n",
    "confusion_matrix(y_test, predict1)"
   ]
  },
  {
   "cell_type": "code",
   "execution_count": 41,
   "metadata": {},
   "outputs": [
    {
     "name": "stdout",
     "output_type": "stream",
     "text": [
      "classification report : \n",
      "             precision    recall  f1-score   support\n",
      "\n",
      "          0       0.99      1.00      0.99        69\n",
      "          1       0.86      0.94      0.90        69\n",
      "          2       0.97      0.97      0.97        65\n",
      "          3       0.95      0.93      0.94        76\n",
      "          4       0.95      0.97      0.96        78\n",
      "          5       0.96      0.95      0.95        76\n",
      "          6       0.95      0.97      0.96        64\n",
      "          7       0.94      0.96      0.95        71\n",
      "          8       0.88      0.78      0.83        78\n",
      "          9       0.90      0.89      0.90        73\n",
      "\n",
      "avg / total       0.93      0.93      0.93       719\n",
      "\n"
     ]
    }
   ],
   "source": [
    "print('classification report : ')\n",
    "print(classification_report(y_test, predict1))"
   ]
  },
  {
   "cell_type": "code",
   "execution_count": null,
   "metadata": {},
   "outputs": [],
   "source": []
  }
 ],
 "metadata": {
  "kernelspec": {
   "display_name": "Python 3",
   "language": "python",
   "name": "python3"
  },
  "language_info": {
   "codemirror_mode": {
    "name": "ipython",
    "version": 3
   },
   "file_extension": ".py",
   "mimetype": "text/x-python",
   "name": "python",
   "nbconvert_exporter": "python",
   "pygments_lexer": "ipython3",
   "version": "3.6.5"
  }
 },
 "nbformat": 4,
 "nbformat_minor": 2
}
