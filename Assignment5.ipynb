{
  "nbformat": 4,
  "nbformat_minor": 0,
  "metadata": {
    "colab": {
      "name": "Untitled10.ipynb",
      "version": "0.3.2",
      "provenance": [],
      "collapsed_sections": []
    }
  },
  "cells": [
    {
      "cell_type": "markdown",
      "metadata": {
        "id": "view-in-github",
        "colab_type": "text"
      },
      "source": [
        "[View in Colaboratory](https://colab.research.google.com/github/Kushal11608202/ML--1/blob/master/Untitled10.ipynb)"
      ]
    },
    {
      "metadata": {
        "id": "lq1UeWi5oaeH",
        "colab_type": "code",
        "colab": {}
      },
      "cell_type": "code",
      "source": [
        "import pandas as pd\n",
        "import numpy as np\n",
        "\n",
        "data = pd.read_csv('https://raw.githubusercontent.com/Shreyas3108/Weather/master/weather.csv') # Importing the csv File into the DataFrame"
      ],
      "execution_count": 0,
      "outputs": []
    },
    {
      "metadata": {
        "id": "L_SLOSv0xuIn",
        "colab_type": "text"
      },
      "cell_type": "markdown",
      "source": [
        "#Question - (a)"
      ]
    },
    {
      "metadata": {
        "id": "uMF_VIyMojz7",
        "colab_type": "code",
        "colab": {
          "base_uri": "https://localhost:8080/",
          "height": 442
        },
        "outputId": "23c1352e-e5ce-4168-cfd0-809f892f7cdf"
      },
      "cell_type": "code",
      "source": [
        "data.isnull().sum()         # printing the sum of missing data for every column in the dataset"
      ],
      "execution_count": 7,
      "outputs": [
        {
          "output_type": "execute_result",
          "data": {
            "text/plain": [
              "Date             0\n",
              "Location         0\n",
              "MinTemp          0\n",
              "MaxTemp          0\n",
              "Rainfall         0\n",
              "Evaporation      0\n",
              "Sunshine         0\n",
              "WindGustDir      3\n",
              "WindGustSpeed    0\n",
              "WindDir9am       0\n",
              "WindDir3pm       1\n",
              "WindSpeed9am     0\n",
              "WindSpeed3pm     0\n",
              "Humidity9am      0\n",
              "Humidity3pm      0\n",
              "Pressure9am      0\n",
              "Pressure3pm      0\n",
              "Cloud9am         0\n",
              "Cloud3pm         0\n",
              "Temp9am          0\n",
              "Temp3pm          0\n",
              "RainToday        0\n",
              "RISK_MM          0\n",
              "RainTomorrow     0\n",
              "dtype: int64"
            ]
          },
          "metadata": {
            "tags": []
          },
          "execution_count": 7
        }
      ]
    },
    {
      "metadata": {
        "id": "Jh5l8Ykbxo4U",
        "colab_type": "text"
      },
      "cell_type": "markdown",
      "source": [
        "##Question - (b)"
      ]
    },
    {
      "metadata": {
        "id": "EUbgiLizovBL",
        "colab_type": "code",
        "colab": {
          "base_uri": "https://localhost:8080/",
          "height": 442
        },
        "outputId": "f2ff717b-2e06-45d2-f738-e5f5dc603778"
      },
      "cell_type": "code",
      "source": [
        "data = data[~data['WindDir9am'].isnull()]              #  Removing some missing values\n",
        "data = data[~data['WindSpeed9am'].isnull()]            #  data = data[~data.isnull()] => For removing all the missing null values in the dataset\n",
        "data.isnull().sum()"
      ],
      "execution_count": 10,
      "outputs": [
        {
          "output_type": "execute_result",
          "data": {
            "text/plain": [
              "Date             0\n",
              "Location         0\n",
              "MinTemp          0\n",
              "MaxTemp          0\n",
              "Rainfall         0\n",
              "Evaporation      0\n",
              "Sunshine         3\n",
              "WindGustDir      3\n",
              "WindGustSpeed    2\n",
              "WindDir9am       0\n",
              "WindDir3pm       1\n",
              "WindSpeed9am     0\n",
              "WindSpeed3pm     0\n",
              "Humidity9am      0\n",
              "Humidity3pm      0\n",
              "Pressure9am      0\n",
              "Pressure3pm      0\n",
              "Cloud9am         0\n",
              "Cloud3pm         0\n",
              "Temp9am          0\n",
              "Temp3pm          0\n",
              "RainToday        0\n",
              "RISK_MM          0\n",
              "RainTomorrow     0\n",
              "dtype: int64"
            ]
          },
          "metadata": {
            "tags": []
          },
          "execution_count": 10
        }
      ]
    },
    {
      "metadata": {
        "id": "ZtctisZwxjB_",
        "colab_type": "text"
      },
      "cell_type": "markdown",
      "source": [
        "##Question - (c)"
      ]
    },
    {
      "metadata": {
        "id": "S26uKd7Woz3-",
        "colab_type": "code",
        "colab": {
          "base_uri": "https://localhost:8080/",
          "height": 459
        },
        "outputId": "7d909ef8-4791-4017-f4cb-c1d605036a38"
      },
      "cell_type": "code",
      "source": [
        "data = data.fillna(data.mean())\n",
        "data.isnull().sum()"
      ],
      "execution_count": 38,
      "outputs": [
        {
          "output_type": "execute_result",
          "data": {
            "text/plain": [
              "Date               0\n",
              "Location           0\n",
              "MinTemp            0\n",
              "MaxTemp            0\n",
              "Rainfall           0\n",
              "Evaporation        0\n",
              "Sunshine           0\n",
              "WindGustDir        3\n",
              "WindGustSpeed      0\n",
              "WindDir9am         0\n",
              "WindDir3pm         1\n",
              "WindSpeed9am       0\n",
              "WindSpeed3pm       0\n",
              "Humidity9am        0\n",
              "Humidity3pm        0\n",
              "Pressure9am        0\n",
              "Pressure3pm        0\n",
              "Cloud9am           0\n",
              "Cloud3pm           0\n",
              "Temp9am            0\n",
              "Temp3pm            0\n",
              "RainToday          0\n",
              "RISK_MM            0\n",
              "RainTomorrow       0\n",
              "count            335\n",
              "dtype: int64"
            ]
          },
          "metadata": {
            "tags": []
          },
          "execution_count": 38
        }
      ]
    },
    {
      "metadata": {
        "id": "5J8Drs0bxz77",
        "colab_type": "code",
        "colab": {
          "base_uri": "https://localhost:8080/",
          "height": 34
        },
        "outputId": "46f768c4-1f95-415a-a589-ac4bd029b889"
      },
      "cell_type": "code",
      "source": [
        "data.shape"
      ],
      "execution_count": 39,
      "outputs": [
        {
          "output_type": "execute_result",
          "data": {
            "text/plain": [
              "(335, 25)"
            ]
          },
          "metadata": {
            "tags": []
          },
          "execution_count": 39
        }
      ]
    },
    {
      "metadata": {
        "id": "u_HYEg2IxdUp",
        "colab_type": "text"
      },
      "cell_type": "markdown",
      "source": [
        "##Question - (d)"
      ]
    },
    {
      "metadata": {
        "id": "DepTxYBipiBZ",
        "colab_type": "code",
        "colab": {
          "base_uri": "https://localhost:8080/",
          "height": 510
        },
        "outputId": "40e163e2-23d9-4751-b3d4-88d514379ba9"
      },
      "cell_type": "code",
      "source": [
        "data.info()"
      ],
      "execution_count": 16,
      "outputs": [
        {
          "output_type": "stream",
          "text": [
            "<class 'pandas.core.frame.DataFrame'>\n",
            "Int64Index: 335 entries, 0 to 365\n",
            "Data columns (total 24 columns):\n",
            "Date             335 non-null object\n",
            "Location         335 non-null object\n",
            "MinTemp          335 non-null float64\n",
            "MaxTemp          335 non-null float64\n",
            "Rainfall         335 non-null float64\n",
            "Evaporation      335 non-null float64\n",
            "Sunshine         335 non-null float64\n",
            "WindGustDir      332 non-null object\n",
            "WindGustSpeed    335 non-null float64\n",
            "WindDir9am       335 non-null object\n",
            "WindDir3pm       334 non-null object\n",
            "WindSpeed9am     335 non-null float64\n",
            "WindSpeed3pm     335 non-null int64\n",
            "Humidity9am      335 non-null int64\n",
            "Humidity3pm      335 non-null int64\n",
            "Pressure9am      335 non-null float64\n",
            "Pressure3pm      335 non-null float64\n",
            "Cloud9am         335 non-null int64\n",
            "Cloud3pm         335 non-null int64\n",
            "Temp9am          335 non-null float64\n",
            "Temp3pm          335 non-null float64\n",
            "RainToday        335 non-null object\n",
            "RISK_MM          335 non-null float64\n",
            "RainTomorrow     335 non-null object\n",
            "dtypes: float64(12), int64(5), object(7)\n",
            "memory usage: 65.4+ KB\n"
          ],
          "name": "stdout"
        }
      ]
    },
    {
      "metadata": {
        "id": "5jQlA2fKwoSi",
        "colab_type": "code",
        "colab": {
          "base_uri": "https://localhost:8080/",
          "height": 1071
        },
        "outputId": "432e34ed-017f-41cd-b8c4-4b2a55841bfa"
      },
      "cell_type": "code",
      "source": [
        "pd.Series.copy(data['MinTemp'])"
      ],
      "execution_count": 36,
      "outputs": [
        {
          "output_type": "execute_result",
          "data": {
            "text/plain": [
              "0       8.0\n",
              "1      14.0\n",
              "2      13.7\n",
              "3      13.3\n",
              "4       7.6\n",
              "5       6.2\n",
              "6       6.1\n",
              "7       8.3\n",
              "8       8.8\n",
              "9       8.4\n",
              "10      9.1\n",
              "11      8.5\n",
              "12     10.1\n",
              "13     12.1\n",
              "14     10.1\n",
              "15     12.4\n",
              "16     13.8\n",
              "17     11.7\n",
              "18     12.4\n",
              "19     15.6\n",
              "20     15.3\n",
              "21     16.4\n",
              "22     12.8\n",
              "23     12.0\n",
              "24     15.4\n",
              "25     15.6\n",
              "26     13.3\n",
              "27     12.9\n",
              "28     15.1\n",
              "29     13.6\n",
              "       ... \n",
              "334     2.3\n",
              "335     1.4\n",
              "336     5.6\n",
              "337    16.8\n",
              "338    14.4\n",
              "339    10.3\n",
              "340    11.2\n",
              "341     0.3\n",
              "342     0.5\n",
              "343     0.5\n",
              "344     4.6\n",
              "345     8.2\n",
              "346     4.5\n",
              "347     6.7\n",
              "348    11.9\n",
              "349     9.2\n",
              "350     4.4\n",
              "352     6.7\n",
              "353     8.3\n",
              "354    11.3\n",
              "355     9.0\n",
              "356     3.4\n",
              "357     3.2\n",
              "358     0.9\n",
              "359     3.3\n",
              "361     9.0\n",
              "362     7.1\n",
              "363    12.5\n",
              "364    12.5\n",
              "365    12.3\n",
              "Name: MinTemp, Length: 335, dtype: float64"
            ]
          },
          "metadata": {
            "tags": []
          },
          "execution_count": 36
        }
      ]
    }
  ]
}
